{
 "cells": [
  {
   "cell_type": "markdown",
   "id": "94705b89",
   "metadata": {},
   "source": [
    "# Assignment 1: Earth's radiating temperature\n",
    "\n",
    "(YOUR NAME HERE)\n",
    "\n",
    "(TODAY'S DATE HERE)"
   ]
  },
  {
   "cell_type": "markdown",
   "id": "0d15e8cb",
   "metadata": {},
   "source": [
    "## Part 1\n",
    "\n",
    "In a Markdown cell below, present and explain (to your future self) the equation we derived in class that predicts the earth's average radiating temperature. Use $\\LaTeX$ math for the equation. Be sure to define each variable."
   ]
  },
  {
   "cell_type": "markdown",
   "id": "42ba1c23",
   "metadata": {},
   "source": [
    "(YOUR ANSWER HERE)"
   ]
  },
  {
   "cell_type": "markdown",
   "id": "0ff7e6d3",
   "metadata": {},
   "source": [
    "## Part 2\n",
    "\n",
    "In a code cell below, write a Python program to calculate and print out the earth's present-day radiating temperature. Your program should define variables, and use operators."
   ]
  },
  {
   "cell_type": "code",
   "execution_count": null,
   "id": "97d33bd5",
   "metadata": {},
   "outputs": [],
   "source": []
  },
  {
   "cell_type": "markdown",
   "id": "68807bb3",
   "metadata": {},
   "source": [
    "## Part 3\n",
    "\n",
    "The earth's average *surface* temperature today is approximately XYZ... (to be continued)\n"
   ]
  },
  {
   "cell_type": "code",
   "execution_count": null,
   "id": "0e89712c",
   "metadata": {},
   "outputs": [],
   "source": []
  }
 ],
 "metadata": {
  "kernelspec": {
   "display_name": "Python 3 (ipykernel)",
   "language": "python",
   "name": "python3"
  },
  "language_info": {
   "codemirror_mode": {
    "name": "ipython",
    "version": 3
   },
   "file_extension": ".py",
   "mimetype": "text/x-python",
   "name": "python",
   "nbconvert_exporter": "python",
   "pygments_lexer": "ipython3",
   "version": "3.11.2"
  }
 },
 "nbformat": 4,
 "nbformat_minor": 5
}
