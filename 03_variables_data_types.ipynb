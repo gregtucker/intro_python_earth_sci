{
 "cells": [
  {
   "cell_type": "markdown",
   "id": "865f62b9",
   "metadata": {
    "slideshow": {
     "slide_type": "slide"
    }
   },
   "source": [
    "# Variables and data types"
   ]
  },
  {
   "cell_type": "markdown",
   "id": "7973d150",
   "metadata": {
    "cell_style": "split",
    "slideshow": {
     "slide_type": "slide"
    }
   },
   "source": [
    "## Earth surface temperature versus radiating temperature\n",
    "\n",
    "Energy balance equation:\n",
    "\n",
    "$$T = \\left(\\frac{S_0 (1-a)}{4\\sigma}\\right)^{1/4}$$\n",
    "\n",
    "Earth 20th century average **surface** $T_s\\approx 18^\\circ C$ $(59^\\circ F)$\n",
    "\n",
    "How does this compare with the **radiating** temperature? Why are they different?"
   ]
  },
  {
   "cell_type": "code",
   "execution_count": null,
   "id": "a5471565",
   "metadata": {
    "cell_style": "split",
    "slideshow": {
     "slide_type": "-"
    }
   },
   "outputs": [],
   "source": []
  },
  {
   "cell_type": "markdown",
   "id": "677e54bd",
   "metadata": {
    "slideshow": {
     "slide_type": "notes"
    }
   },
   "source": []
  },
  {
   "cell_type": "markdown",
   "id": "2811e9eb",
   "metadata": {
    "cell_style": "split",
    "slideshow": {
     "slide_type": "slide"
    }
   },
   "source": [
    "## The \"greenhouse effect\"\n",
    "\n",
    "- Warming of the surface relative to top of atmosphere due to atmospheric absorption of \"longwave\" (infrared) radiation from the surface.\n",
    "\n",
    "- \"Greenhouse gases\": water vapor, CO$_2$, methane, N$_2$O, ozone\n",
    "\n",
    "- How big? (pre-industrial)"
   ]
  },
  {
   "cell_type": "code",
   "execution_count": null,
   "id": "eb4c79d1",
   "metadata": {
    "cell_style": "split",
    "slideshow": {
     "slide_type": "-"
    }
   },
   "outputs": [],
   "source": []
  },
  {
   "cell_type": "code",
   "execution_count": null,
   "id": "7b19e388",
   "metadata": {
    "slideshow": {
     "slide_type": "notes"
    }
   },
   "outputs": [],
   "source": []
  },
  {
   "cell_type": "markdown",
   "id": "99a3dc88",
   "metadata": {
    "cell_style": "split",
    "slideshow": {
     "slide_type": "slide"
    }
   },
   "source": [
    "## Other planets\n",
    "\n",
    "| Planet      | Solar irradiance | Albedo |\n",
    "|-------------|------------------|--------|\n",
    "| Mercury (1) | 9,083 | 0.068 |\n",
    "| Venus (2)   | 2,636 | 0.77 |\n",
    "| Earth (3)   | 1,360 | 0.31 |\n",
    "| Mars (4)    | 586   | 0.25 |\n"
   ]
  },
  {
   "cell_type": "code",
   "execution_count": null,
   "id": "33413cf1",
   "metadata": {
    "cell_style": "split",
    "slideshow": {
     "slide_type": "-"
    }
   },
   "outputs": [],
   "source": []
  },
  {
   "cell_type": "markdown",
   "id": "49640678",
   "metadata": {
    "slideshow": {
     "slide_type": "notes"
    }
   },
   "source": []
  },
  {
   "cell_type": "markdown",
   "id": "fdc37015",
   "metadata": {
    "cell_style": "split",
    "slideshow": {
     "slide_type": "slide"
    }
   },
   "source": [
    "## The assignment operator =\n",
    "\n",
    "- **Not** a statement of equality!\n",
    "\n",
    "- **Assigns** the value on the right to the variable on the left \n",
    "  - *(the variable \"gets\" the value)*\n",
    "\n",
    "- **Defines** the variable if it does not already exist\n",
    "\n",
    "- When a new variable is defined, Python **allocates** a piece of computer memory to contain its value, encoded in binary"
   ]
  },
  {
   "cell_type": "code",
   "execution_count": null,
   "id": "94087785",
   "metadata": {
    "cell_style": "split",
    "slideshow": {
     "slide_type": "-"
    }
   },
   "outputs": [],
   "source": []
  },
  {
   "cell_type": "code",
   "execution_count": null,
   "id": "0a9dfcd3",
   "metadata": {
    "slideshow": {
     "slide_type": "notes"
    }
   },
   "outputs": [],
   "source": []
  },
  {
   "cell_type": "markdown",
   "id": "f158f6f6",
   "metadata": {
    "cell_style": "split",
    "slideshow": {
     "slide_type": "slide"
    }
   },
   "source": [
    "## The assignment operator =\n",
    "\n",
    "- Example: define a variable to store the value of Earth's albedo\n",
    "\n",
    "- Example: define a variable to store the Stefan-Boltzmann constant\n",
    "\n",
    "- Exponential notation: in Python, the number `5.67e-8` means $5.67 \\times 10^{-8}$"
   ]
  },
  {
   "cell_type": "code",
   "execution_count": null,
   "id": "e34e341d",
   "metadata": {
    "cell_style": "split",
    "slideshow": {
     "slide_type": "-"
    }
   },
   "outputs": [],
   "source": []
  },
  {
   "cell_type": "markdown",
   "id": "ce9d2f2a",
   "metadata": {
    "cell_style": "center",
    "slideshow": {
     "slide_type": "notes"
    }
   },
   "source": []
  },
  {
   "cell_type": "markdown",
   "id": "3394a0bf",
   "metadata": {
    "cell_style": "split",
    "slideshow": {
     "slide_type": "slide"
    }
   },
   "source": [
    "### Exercise\n",
    "\n",
    "Define a variable for each factor in the temperature equation. \n",
    "\n",
    "Write and run an expression that calculates the equlibrium temperature and stores it in a variable called `earth_rad_temp`.\n",
    "\n",
    "Print the value of this variable."
   ]
  },
  {
   "cell_type": "code",
   "execution_count": null,
   "id": "a6f45d41",
   "metadata": {
    "cell_style": "split",
    "slideshow": {
     "slide_type": "-"
    }
   },
   "outputs": [],
   "source": []
  },
  {
   "cell_type": "markdown",
   "id": "50bc220d",
   "metadata": {
    "slideshow": {
     "slide_type": "notes"
    }
   },
   "source": []
  },
  {
   "cell_type": "markdown",
   "id": "d2766ca6",
   "metadata": {
    "slideshow": {
     "slide_type": "slide"
    }
   },
   "source": [
    "### Walking through the logic\n",
    "\n",
    "`albedo = 0.31`\n",
    "\n",
    "`solar_irrad = 1360.0`\n",
    "\n",
    "`sigma = 5.67e-8`\n",
    "\n",
    "`rad_temp = ((1.0 - albedo) * solar_irrad / (4.0 * sigma))**0.25`"
   ]
  },
  {
   "cell_type": "code",
   "execution_count": 5,
   "id": "2ff0d4c7",
   "metadata": {
    "slideshow": {
     "slide_type": "-"
    }
   },
   "outputs": [
    {
     "name": "stdout",
     "output_type": "stream",
     "text": [
      "Radiating temperature is -19.378400464018824 C\n"
     ]
    }
   ],
   "source": [
    "albedo = 0.31\n",
    "solar_irrad = 1360.0\n",
    "sigma = 5.67e-8\n",
    "rad_temp = ((1.0 - albedo) * solar_irrad / (4.0 * sigma)) ** 0.25\n",
    "print(\"Radiating temperature is\", rad_temp - 273, \"C\")"
   ]
  },
  {
   "cell_type": "markdown",
   "id": "1bf53928",
   "metadata": {
    "slideshow": {
     "slide_type": "notes"
    }
   },
   "source": []
  },
  {
   "cell_type": "markdown",
   "id": "3465249f",
   "metadata": {
    "cell_style": "center",
    "slideshow": {
     "slide_type": "slide"
    }
   },
   "source": [
    "## Variable types\n",
    "\n",
    "- Every variable has a **type**\n",
    "\n",
    "- Python is an *automatically typed* language\n",
    "  - When a variable is defined, Python matches the variable type with the value that is assigned to it\n",
    "\n",
    "- Variables assigned a number without a decimal point are typed as **int** *(integer)*\n",
    "\n",
    "- Variables assigned a number with a decimal point, or using exponential notation, are typed as **float** *(floating point number)*\n",
    "\n",
    "- Variables assigned a sequence of characters between `\"\"` or `''` are typed as **string**\n",
    "\n",
    "- The `type()` function returns the type of a variable"
   ]
  },
  {
   "cell_type": "markdown",
   "id": "83911578",
   "metadata": {
    "cell_style": "center",
    "slideshow": {
     "slide_type": "slide"
    }
   },
   "source": [
    "## Automatic typing and the `type()` function\n",
    "\n",
    "- Every variable has a **type**\n",
    "\n",
    "- Variables assigned a number without a decimal point are typed as **int** *(integer)*\n",
    "\n",
    "- Variables assigned a number with a decimal point, or using exponential notation, are typed as **float** *(floating point number)*\n",
    "\n",
    "- Variables assigned a sequence of characters between `\"\"` or `''` are typed as **string**\n",
    "\n",
    "- The `type()` function returns the type of a variable"
   ]
  },
  {
   "cell_type": "code",
   "execution_count": null,
   "id": "21676674",
   "metadata": {
    "cell_style": "center",
    "slideshow": {
     "slide_type": "-"
    }
   },
   "outputs": [],
   "source": []
  },
  {
   "cell_type": "markdown",
   "id": "ba909710",
   "metadata": {
    "slideshow": {
     "slide_type": "slide"
    }
   },
   "source": [
    "### Exercise: creating variables and examining their types\n",
    "\n",
    "- Pick one of the planets we looked at (Mercury, Venus, Earth, Mars)\n",
    "- Declare and assign a string variable for the planet's name\n",
    "- Declare and assign an integer variable for the planet's number (Mercury is 1, Earth is 3, etc.)\n",
    "- Declare and assign a floating point variable for the planet's solar irradiance\n",
    "- Use `type()` to verify that each variable is of the type you intended"
   ]
  },
  {
   "cell_type": "code",
   "execution_count": null,
   "id": "ef54e556",
   "metadata": {
    "slideshow": {
     "slide_type": "-"
    }
   },
   "outputs": [],
   "source": []
  },
  {
   "cell_type": "markdown",
   "id": "74faaece",
   "metadata": {
    "slideshow": {
     "slide_type": "slide"
    }
   },
   "source": [
    "### Exercise: type casting\n",
    "\n",
    "- What happens if you cast the planet number to a float?\n",
    "- What happens if you cast the solar irradiance to an int?\n",
    "- What happens if you cast either one to a string?\n",
    "- What happens if you try to cast the planet name to a float or an int?"
   ]
  },
  {
   "cell_type": "code",
   "execution_count": null,
   "id": "82e78832",
   "metadata": {
    "slideshow": {
     "slide_type": "-"
    }
   },
   "outputs": [],
   "source": []
  },
  {
   "cell_type": "markdown",
   "id": "e6035f1f",
   "metadata": {},
   "source": [
    "## Assignment versus comparison\n",
    "\n",
    "Try:\n",
    "- `2 = 1 + 1`\n",
    "- `2 == 1 + 1`\n",
    "- `result = 2 == 1 + 1`\n",
    "- `type(result)`"
   ]
  },
  {
   "cell_type": "code",
   "execution_count": null,
   "id": "374fcbbc",
   "metadata": {
    "slideshow": {
     "slide_type": "-"
    }
   },
   "outputs": [],
   "source": []
  },
  {
   "cell_type": "markdown",
   "id": "58d4656b",
   "metadata": {
    "slideshow": {
     "slide_type": "slide"
    }
   },
   "source": [
    "## Comparison operators\n",
    "\n",
    "- A **comparison operator** compares two values and returns either `True` or `False`\n",
    "- Python comparison operators: \n",
    "  - Equal to `==`\n",
    "  - Uneqal to `!=`\n",
    "  - Greater than `>`\n",
    "  - Less than `<`\n",
    "  - Greater than or equal to `>=`\n",
    "  - Less than or equal to `<=`\n",
    "- A boolean (`bool`) variable can be (only) `True` or `False`"
   ]
  },
  {
   "cell_type": "code",
   "execution_count": null,
   "id": "ad7d49a3",
   "metadata": {
    "slideshow": {
     "slide_type": "-"
    }
   },
   "outputs": [],
   "source": []
  },
  {
   "cell_type": "markdown",
   "id": "c6d5bc29",
   "metadata": {
    "slideshow": {
     "slide_type": "slide"
    }
   },
   "source": [
    "### Exercise\n",
    "\n",
    "Use comparison operators to test whether:\n",
    "\n",
    "- Mercury's solar irradiance is greater than Earth's\n",
    "- Earth's irradiance is less than or equal to Venus' irradiance\n",
    "- Mars and Earth have equal solar irradiance (they don't, so the result should be `False`)\n",
    "\n",
    "Create a boolean variable that records whether Earth's solar irradiance (in W/m2) equals 1360.0"
   ]
  },
  {
   "cell_type": "code",
   "execution_count": null,
   "id": "fc53b3a6",
   "metadata": {
    "slideshow": {
     "slide_type": "-"
    }
   },
   "outputs": [],
   "source": []
  },
  {
   "cell_type": "markdown",
   "id": "f989f5c0",
   "metadata": {
    "slideshow": {
     "slide_type": "slide"
    }
   },
   "source": [
    "## Redefing variables\n",
    "\n",
    "When you assign a value to an existing variable, its previous value is erased.\n",
    "\n",
    "If the value assigned is of a different type than the original variable, the variable is redefined to the new type.\n"
   ]
  },
  {
   "cell_type": "code",
   "execution_count": 8,
   "id": "0b13e6fd",
   "metadata": {},
   "outputs": [
    {
     "data": {
      "text/plain": [
       "int"
      ]
     },
     "execution_count": 8,
     "metadata": {},
     "output_type": "execute_result"
    }
   ],
   "source": [
    "thing = 1360.0\n",
    "thing = 1360\n",
    "type(thing)"
   ]
  },
  {
   "cell_type": "markdown",
   "id": "0cf97df0",
   "metadata": {
    "slideshow": {
     "slide_type": "notes"
    }
   },
   "source": [
    "## Restarting the Jupyter notebook kernel\n",
    "\n",
    "The Jupyter **kernel** is basically the notebook's operating system.\n",
    "\n",
    "It includes the Python **interpreter**: the program that reads and executes your Python code.\n",
    "\n",
    "When you **restart the kernel**, any existing variables are deleted.\n"
   ]
  },
  {
   "cell_type": "code",
   "execution_count": null,
   "id": "bc1b0254",
   "metadata": {
    "slideshow": {
     "slide_type": "notes"
    }
   },
   "outputs": [],
   "source": []
  },
  {
   "cell_type": "markdown",
   "id": "4df60173",
   "metadata": {},
   "source": [
    "## Review\n",
    "\n"
   ]
  },
  {
   "cell_type": "code",
   "execution_count": null,
   "id": "c0900830",
   "metadata": {},
   "outputs": [],
   "source": []
  }
 ],
 "metadata": {
  "celltoolbar": "Slideshow",
  "kernelspec": {
   "display_name": "Python 3 (ipykernel)",
   "language": "python",
   "name": "python3"
  },
  "language_info": {
   "codemirror_mode": {
    "name": "ipython",
    "version": 3
   },
   "file_extension": ".py",
   "mimetype": "text/x-python",
   "name": "python",
   "nbconvert_exporter": "python",
   "pygments_lexer": "ipython3",
   "version": "3.11.4"
  }
 },
 "nbformat": 4,
 "nbformat_minor": 5
}
