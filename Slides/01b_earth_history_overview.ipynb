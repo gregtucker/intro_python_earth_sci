{
 "cells": [
  {
   "cell_type": "markdown",
   "id": "ff4ae7a6",
   "metadata": {
    "slideshow": {
     "slide_type": "slide"
    }
   },
   "source": [
    "# An overview of earth history by powers of 10\n",
    "\n",
    "<center>\n",
    "    <img src=\"assets/timescale.png\" style=\"width:9in\"></img>\n",
    "    </center>\n",
    "\n"
   ]
  },
  {
   "cell_type": "markdown",
   "id": "3f970b4f",
   "metadata": {
    "cell_style": "split",
    "slideshow": {
     "slide_type": "slide"
    }
   },
   "source": [
    "## 1 billion years ago\n",
    "\n",
    "### Start of the *Neoproterozoic Era*, 1,000 to 541 million years ago\n",
    "\n",
    "(illustration by Oleg Kuznetsov)"
   ]
  },
  {
   "cell_type": "markdown",
   "id": "2c115021",
   "metadata": {
    "cell_style": "split",
    "slideshow": {
     "slide_type": "-"
    }
   },
   "source": [
    "<center>\n",
    "    <img src=\"assets/1280px-Snowball_Huronian.jpg\"></img></center>"
   ]
  },
  {
   "cell_type": "code",
   "execution_count": null,
   "id": "0598ba52",
   "metadata": {
    "slideshow": {
     "slide_type": "skip"
    }
   },
   "outputs": [],
   "source": []
  },
  {
   "cell_type": "markdown",
   "id": "256343e0",
   "metadata": {
    "cell_style": "split",
    "slideshow": {
     "slide_type": "slide"
    }
   },
   "source": [
    "## 100 million years ago\n",
    "\n",
    "### Middle of the Cretaceous Period\n",
    "\n",
    "(paleogeography reconstruction by Scotese, 2021)"
   ]
  },
  {
   "cell_type": "markdown",
   "id": "5321e47c",
   "metadata": {
    "cell_style": "split",
    "slideshow": {
     "slide_type": "-"
    }
   },
   "source": [
    "<center>\n",
    "    <img src=\"assets/100Ma_Robinson.jpeg\"></img></center>"
   ]
  },
  {
   "cell_type": "code",
   "execution_count": null,
   "id": "34ff67a1",
   "metadata": {
    "slideshow": {
     "slide_type": "skip"
    }
   },
   "outputs": [],
   "source": []
  },
  {
   "cell_type": "markdown",
   "id": "59a804cc",
   "metadata": {
    "cell_style": "center",
    "slideshow": {
     "slide_type": "slide"
    }
   },
   "source": [
    "## 10 million years ago\n",
    "\n",
    "### Tortonian Age of the Miocene Epoch\n",
    "\n",
    "(paleogeography reconstruction by Scotese, 2021)"
   ]
  },
  {
   "attachments": {},
   "cell_type": "markdown",
   "id": "8dd9fd3f",
   "metadata": {
    "cell_style": "split",
    "slideshow": {
     "slide_type": "-"
    }
   },
   "source": [
    "<center>\n",
    "    <img src=\"assets/010Ma_Robinson.jpeg\"></img></center>"
   ]
  },
  {
   "cell_type": "code",
   "execution_count": null,
   "id": "8efa99c6",
   "metadata": {
    "slideshow": {
     "slide_type": "skip"
    }
   },
   "outputs": [],
   "source": []
  },
  {
   "cell_type": "markdown",
   "id": "4268fdae",
   "metadata": {
    "cell_style": "center",
    "slideshow": {
     "slide_type": "slide"
    }
   },
   "source": [
    "## 1 million years ago\n",
    "\n",
    "### Middle of the Pleistocene Epoch\n",
    "\n",
    "(James Hansen publications)"
   ]
  },
  {
   "attachments": {},
   "cell_type": "markdown",
   "id": "8cd78767",
   "metadata": {
    "cell_style": "center",
    "slideshow": {
     "slide_type": "-"
    }
   },
   "source": [
    "<center>\n",
    "    <img src=\"assets/diagram_shows_sea-level_position_1473264668343263453.jpg\"></img></center>"
   ]
  },
  {
   "cell_type": "code",
   "execution_count": null,
   "id": "ccad02cf",
   "metadata": {
    "slideshow": {
     "slide_type": "skip"
    }
   },
   "outputs": [],
   "source": []
  },
  {
   "cell_type": "markdown",
   "id": "382c71e7",
   "metadata": {
    "cell_style": "split",
    "slideshow": {
     "slide_type": "slide"
    }
   },
   "source": [
    "## 100,000 years ago\n",
    "\n",
    "### Late Pleistocene Epoch\n",
    "\n",
    "(Hannes Grobe/AWI)"
   ]
  },
  {
   "cell_type": "markdown",
   "id": "155fd0cb",
   "metadata": {
    "cell_style": "split",
    "slideshow": {
     "slide_type": "-"
    }
   },
   "source": [
    "<center>\n",
    "    <img src=\"assets/Iceage_north-glacial_hg.png\"></img></center>"
   ]
  },
  {
   "cell_type": "code",
   "execution_count": null,
   "id": "6a380882",
   "metadata": {
    "slideshow": {
     "slide_type": "skip"
    }
   },
   "outputs": [],
   "source": []
  },
  {
   "cell_type": "markdown",
   "id": "54fdef82",
   "metadata": {
    "cell_style": "split",
    "slideshow": {
     "slide_type": "slide"
    }
   },
   "source": [
    "## 10,000 years ago\n",
    "\n",
    "### Early Holocene Epoch\n",
    "\n",
    "(Wikimedia)"
   ]
  },
  {
   "attachments": {},
   "cell_type": "markdown",
   "id": "42d22385",
   "metadata": {
    "cell_style": "split",
    "slideshow": {
     "slide_type": "-"
    }
   },
   "source": [
    "<center>\n",
    "    <img src=\"assets/High_res_mastodon_rendering.jpg\"></img></center>"
   ]
  },
  {
   "cell_type": "code",
   "execution_count": null,
   "id": "032af99c",
   "metadata": {
    "slideshow": {
     "slide_type": "skip"
    }
   },
   "outputs": [],
   "source": []
  },
  {
   "cell_type": "code",
   "execution_count": null,
   "id": "2dfcec06",
   "metadata": {
    "slideshow": {
     "slide_type": "skip"
    }
   },
   "outputs": [],
   "source": []
  },
  {
   "cell_type": "markdown",
   "id": "0b2fd061",
   "metadata": {
    "slideshow": {
     "slide_type": "slide"
    }
   },
   "source": [
    "## Global surface temperature has varied over time\n",
    "\n",
    "For reference, 20th century average was [57.0$^\\circ$ F or 13.9$^\\circ$ C](https://www.climate.gov/news-features/understanding-climate/climate-change-global-temperature)"
   ]
  },
  {
   "cell_type": "markdown",
   "id": "f2cc319b",
   "metadata": {
    "cell_style": "split",
    "slideshow": {
     "slide_type": "-"
    }
   },
   "source": [
    "\n",
    "<center>\n",
    "    <img src=\"assets/mills2019modeling_fig2d.png\"></img></center>"
   ]
  },
  {
   "cell_type": "markdown",
   "id": "97c37f9f",
   "metadata": {
    "cell_style": "split",
    "slideshow": {
     "slide_type": "-"
    }
   },
   "source": [
    "\n",
    "<center>\n",
    "    <img src=\"assets/ipcc2021bbc-historic-temp.png\"></img></center>"
   ]
  },
  {
   "cell_type": "markdown",
   "id": "a4cc68dd",
   "metadata": {
    "slideshow": {
     "slide_type": "slide"
    }
   },
   "source": [
    "## Recap\n",
    "\n",
    "After this class, you should be able to:\n",
    "\n",
    "- Sign on to the JupyterHub server\n",
    "- Create a notebook, and create new Markdown and Code cells in it\n",
    "- Write text in Markdown cells, using headers and other formatting\n",
    "- Use math mode to write basic $\\LaTeX$ math\n",
    "- Know how to run a Code cell\n",
    "- Identify that global average surface temperature has varied over geologic time, and is now rising due to human activity"
   ]
  }
 ],
 "metadata": {
  "celltoolbar": "Slideshow",
  "kernelspec": {
   "display_name": "Python 3 (ipykernel)",
   "language": "python",
   "name": "python3"
  },
  "language_info": {
   "codemirror_mode": {
    "name": "ipython",
    "version": 3
   },
   "file_extension": ".py",
   "mimetype": "text/x-python",
   "name": "python",
   "nbconvert_exporter": "python",
   "pygments_lexer": "ipython3",
   "version": "3.11.4"
  }
 },
 "nbformat": 4,
 "nbformat_minor": 5
}
