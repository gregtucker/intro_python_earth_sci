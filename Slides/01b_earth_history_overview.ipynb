{
 "cells": [
  {
   "cell_type": "markdown",
   "id": "6e19a0d6",
   "metadata": {
    "slideshow": {
     "slide_type": "slide"
    }
   },
   "source": [
    "# An overview of earth history by powers of 10\n",
    "\n",
    "<center>\n",
    "    <img src=\"assets/timescale.png\" style=\"width:9in\"></img>\n",
    "    </center>\n",
    "\n"
   ]
  },
  {
   "cell_type": "markdown",
   "id": "813c119e",
   "metadata": {
    "cell_style": "split",
    "slideshow": {
     "slide_type": "slide"
    }
   },
   "source": [
    "## 1 billion years ago\n",
    "\n",
    "### Start of the *Neoproterozoic Era*, 1,000 to 541 million years ago\n",
    "\n",
    "(illustration by Oleg Kuznetsov)"
   ]
  },
  {
   "cell_type": "markdown",
   "id": "319f1f93",
   "metadata": {
    "cell_style": "split",
    "slideshow": {
     "slide_type": "-"
    }
   },
   "source": [
    "<center>\n",
    "    <img src=\"assets/1280px-Snowball_Huronian.jpg\"></img></center>"
   ]
  },
  {
   "cell_type": "code",
   "execution_count": null,
   "id": "ccc78705",
   "metadata": {
    "slideshow": {
     "slide_type": "skip"
    }
   },
   "outputs": [],
   "source": []
  },
  {
   "cell_type": "markdown",
   "id": "002ce92e",
   "metadata": {
    "cell_style": "split",
    "slideshow": {
     "slide_type": "slide"
    }
   },
   "source": [
    "## 100 million years ago\n",
    "\n",
    "### Middle of the Cretaceous Period\n",
    "\n",
    "(paleogeography reconstruction by Scotese, 2021)"
   ]
  },
  {
   "cell_type": "markdown",
   "id": "a0a997ca",
   "metadata": {
    "cell_style": "split",
    "slideshow": {
     "slide_type": "-"
    }
   },
   "source": [
    "<center>\n",
    "    <img src=\"assets/100Ma_Robinson.jpeg\"></img></center>"
   ]
  },
  {
   "cell_type": "code",
   "execution_count": null,
   "id": "5dfdd97b",
   "metadata": {
    "slideshow": {
     "slide_type": "skip"
    }
   },
   "outputs": [],
   "source": []
  },
  {
   "cell_type": "markdown",
   "id": "ef8d7559",
   "metadata": {
    "cell_style": "center",
    "slideshow": {
     "slide_type": "slide"
    }
   },
   "source": [
    "## 10 million years ago\n",
    "\n",
    "### Tortonian Age of the Miocene Epoch\n",
    "\n",
    "(paleogeography reconstruction by Scotese, 2021)"
   ]
  },
  {
   "attachments": {},
   "cell_type": "markdown",
   "id": "2dd434cd",
   "metadata": {
    "cell_style": "split",
    "slideshow": {
     "slide_type": "-"
    }
   },
   "source": [
    "<center>\n",
    "    <img src=\"assets/010Ma_Robinson.jpeg\"></img></center>"
   ]
  },
  {
   "cell_type": "code",
   "execution_count": null,
   "id": "0ef7166b",
   "metadata": {
    "slideshow": {
     "slide_type": "skip"
    }
   },
   "outputs": [],
   "source": []
  },
  {
   "cell_type": "markdown",
   "id": "2d6e6c42",
   "metadata": {
    "cell_style": "center",
    "slideshow": {
     "slide_type": "slide"
    }
   },
   "source": [
    "## 1 million years ago\n",
    "\n",
    "### Middle of the Pleistocene Epoch\n",
    "\n",
    "(James Hansen publications)"
   ]
  },
  {
   "attachments": {},
   "cell_type": "markdown",
   "id": "0c11ed37",
   "metadata": {
    "cell_style": "center",
    "slideshow": {
     "slide_type": "-"
    }
   },
   "source": [
    "<center>\n",
    "    <img src=\"assets/diagram_shows_sea-level_position_1473264668343263453.jpg\"></img></center>"
   ]
  },
  {
   "cell_type": "code",
   "execution_count": null,
   "id": "dc153daf",
   "metadata": {
    "slideshow": {
     "slide_type": "skip"
    }
   },
   "outputs": [],
   "source": []
  },
  {
   "cell_type": "markdown",
   "id": "28e4b0ff",
   "metadata": {
    "cell_style": "split",
    "slideshow": {
     "slide_type": "slide"
    }
   },
   "source": [
    "## 100,000 years ago\n",
    "\n",
    "### Late Pleistocene Epoch\n",
    "\n",
    "(Hannes Grobe/AWI)"
   ]
  },
  {
   "cell_type": "markdown",
   "id": "4c5195da",
   "metadata": {
    "cell_style": "split",
    "slideshow": {
     "slide_type": "-"
    }
   },
   "source": [
    "<center>\n",
    "    <img src=\"assets/Iceage_north-glacial_hg.png\"></img></center>"
   ]
  },
  {
   "cell_type": "code",
   "execution_count": null,
   "id": "bf8d2178",
   "metadata": {
    "slideshow": {
     "slide_type": "skip"
    }
   },
   "outputs": [],
   "source": []
  },
  {
   "cell_type": "markdown",
   "id": "a7e5e191",
   "metadata": {
    "cell_style": "split",
    "slideshow": {
     "slide_type": "slide"
    }
   },
   "source": [
    "## 10,000 years ago\n",
    "\n",
    "### Early Holocene Epoch\n",
    "\n",
    "(Wikimedia)"
   ]
  },
  {
   "attachments": {},
   "cell_type": "markdown",
   "id": "6f41fa9e",
   "metadata": {
    "cell_style": "split",
    "slideshow": {
     "slide_type": "-"
    }
   },
   "source": [
    "<center>\n",
    "    <img src=\"assets/High_res_mastodon_rendering.jpg\"></img></center>"
   ]
  },
  {
   "cell_type": "code",
   "execution_count": null,
   "id": "edb43d19",
   "metadata": {
    "slideshow": {
     "slide_type": "skip"
    }
   },
   "outputs": [],
   "source": []
  },
  {
   "cell_type": "code",
   "execution_count": null,
   "id": "b6d8c19a",
   "metadata": {
    "slideshow": {
     "slide_type": "skip"
    }
   },
   "outputs": [],
   "source": []
  },
  {
   "cell_type": "markdown",
   "id": "03d8535f",
   "metadata": {
    "slideshow": {
     "slide_type": "slide"
    }
   },
   "source": [
    "## Global surface temperature has varied over time"
   ]
  },
  {
   "cell_type": "markdown",
   "id": "d034671a",
   "metadata": {
    "cell_style": "split",
    "slideshow": {
     "slide_type": "-"
    }
   },
   "source": [
    "\n",
    "<center>\n",
    "    <img src=\"assets/mills2019modeling_fig2d.png\"></img></center>"
   ]
  },
  {
   "cell_type": "markdown",
   "id": "a977adb9",
   "metadata": {
    "cell_style": "split",
    "slideshow": {
     "slide_type": "-"
    }
   },
   "source": [
    "\n",
    "<center>\n",
    "    <img src=\"assets/ipcc2021bbc-historic-temp.png\"></img></center>"
   ]
  },
  {
   "cell_type": "markdown",
   "id": "b88d01ba",
   "metadata": {
    "slideshow": {
     "slide_type": "slide"
    }
   },
   "source": [
    "## Recap\n",
    "\n",
    "After this class, you should be able to:\n",
    "\n",
    "- Sign on to the JupyterHub server\n",
    "- Create a notebook, and create new Markdown and Code cells in it\n",
    "- Write text in Markdown cells, using headers and other formatting\n",
    "- Use math mode to write basic $\\LaTeX$ math\n",
    "- Know how to run a Code cell\n",
    "- Identify that global average surface temperature has varied over geologic time, and is now rising due to human activity"
   ]
  }
 ],
 "metadata": {
  "celltoolbar": "Slideshow",
  "kernelspec": {
   "display_name": "Python 3 (ipykernel)",
   "language": "python",
   "name": "python3"
  },
  "language_info": {
   "codemirror_mode": {
    "name": "ipython",
    "version": 3
   },
   "file_extension": ".py",
   "mimetype": "text/x-python",
   "name": "python",
   "nbconvert_exporter": "python",
   "pygments_lexer": "ipython3",
   "version": "3.11.4"
  }
 },
 "nbformat": 4,
 "nbformat_minor": 5
}
