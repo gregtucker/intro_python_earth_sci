{
 "cells": [
  {
   "cell_type": "markdown",
   "id": "3bad36fc",
   "metadata": {
    "slideshow": {
     "slide_type": "slide"
    }
   },
   "source": [
    "# Introduction to Python Programming for Geoscientists\n",
    "\n",
    "## Fall semester 2023\n",
    "\n",
    "## Instructor: Greg Tucker\n",
    "\n",
    "## 28 August 2023"
   ]
  },
  {
   "cell_type": "markdown",
   "id": "32564f72",
   "metadata": {
    "slideshow": {
     "slide_type": "slide"
    }
   },
   "source": [
    "## Why computer programming?"
   ]
  },
  {
   "cell_type": "markdown",
   "id": "b7887dd9",
   "metadata": {
    "slideshow": {
     "slide_type": "-"
    }
   },
   "source": [
    "<par>\n",
    "    <img src=\"assets/rover_ipcc_gps.png\"></img>\n",
    "    </par>"
   ]
  },
  {
   "cell_type": "markdown",
   "id": "c5c58319",
   "metadata": {
    "slideshow": {
     "slide_type": "slide"
    }
   },
   "source": [
    "## What is a (digital electronic) computer?\n",
    "\n",
    "Merriam-Webster: \"a programmable usually electronic device that can store, retrieve, and process data\"\n",
    "\n",
    "Data are encoded electronically as binary information\n",
    "\n",
    "A computer's **random access memory** (RAM) encodes information in (nowadays) billions of tiny electronic circuits, each of which can be in either of two states (low vs. high voltage), which are used to represent a 0 or a 1\n",
    "\n",
    "A **bit** is one binary digit (0 or 1)\n",
    "\n",
    "A **byte** is 8 bits"
   ]
  },
  {
   "cell_type": "markdown",
   "id": "b0a5cc98",
   "metadata": {
    "slideshow": {
     "slide_type": "-"
    }
   },
   "source": []
  },
  {
   "cell_type": "markdown",
   "id": "32d26cf1",
   "metadata": {
    "slideshow": {
     "slide_type": "slide"
    }
   },
   "source": [
    "## What is a computer program?\n",
    "\n",
    "### Answer: a series of instructions to be performed by a computer"
   ]
  },
  {
   "cell_type": "code",
   "execution_count": 5,
   "id": "659f62d2",
   "metadata": {
    "slideshow": {
     "slide_type": "-"
    }
   },
   "outputs": [
    {
     "name": "stdout",
     "output_type": "stream",
     "text": [
      "What is the weather like today? cloudy\n",
      "Good luck with that cloudy weather.\n"
     ]
    }
   ],
   "source": [
    "wx = input(\"What is the weather like today? \")\n",
    "print(\"Good luck with that\", wx, \"weather.\")"
   ]
  },
  {
   "cell_type": "markdown",
   "id": "1a60d332",
   "metadata": {
    "slideshow": {
     "slide_type": "slide"
    }
   },
   "source": [
    "## What is a programming language?\n",
    "\n",
    "- Computers are electronic machines that perform operations on binary data\n",
    "- Instructions are encoded in binary electronic signals\n",
    "- A **programming language** is a special kind of language that can be translated into machine instructions\n",
    "- Examples of languages: BASIC, APL, Pascal, Fortran, C, C++, Python, R, Java, JavaScript, Julia"
   ]
  },
  {
   "cell_type": "code",
   "execution_count": 6,
   "id": "3e5bf77d",
   "metadata": {
    "slideshow": {
     "slide_type": "-"
    }
   },
   "outputs": [
    {
     "name": "stdout",
     "output_type": "stream",
     "text": [
      "There are 31557600.0 seconds in an average year.\n"
     ]
    }
   ],
   "source": [
    "seconds_per_minute = 60\n",
    "minutes_per_hour = 60\n",
    "hours_per_day = 24\n",
    "days_per_year = 365.25\n",
    "seconds_per_year = days_per_year * hours_per_day * minutes_per_hour * seconds_per_minute\n",
    "print(\"There are\", seconds_per_year, \"seconds in an average year.\")"
   ]
  },
  {
   "cell_type": "markdown",
   "id": "1bff92ea",
   "metadata": {
    "slideshow": {
     "slide_type": "slide"
    }
   },
   "source": [
    "## Compiled versus interpreted languages\n",
    "\n",
    "- **Compiled**: an entire program (the *source code*) is translated into a binary *executable* file, which can then be run on a particular computer architecture.\n",
    "  - PROS:\n",
    "    - Usually faster to run than interpreted programs\n",
    "    - Executable code is separate from source code\n",
    "  - CONS:\n",
    "    - Requires extra steps during development\n",
    "    - Source code must be *compiled* for each type of hardware"
   ]
  },
  {
   "cell_type": "markdown",
   "id": "414ed4c4",
   "metadata": {
    "slideshow": {
     "slide_type": "slide"
    }
   },
   "source": [
    "## Compiled versus interpreted languages\n",
    "\n",
    "- **Interpreted**: when a program is run, individual lines of code are translated into binary and executed one at a time.\n",
    "  - PROS:\n",
    "    - Programs tend to be faster to write\n",
    "    - Source code *is* the program\n",
    "    - Portable from one kind of computer to another (as long as an interpreter is installed)\n",
    "  - CONS:\n",
    "    - Requires an *interpreter* to run\n",
    "    - Often slower to execute than compiled code"
   ]
  },
  {
   "cell_type": "markdown",
   "id": "0e77b0f8",
   "metadata": {
    "slideshow": {
     "slide_type": "slide"
    }
   },
   "source": [
    "## Why Python?\n",
    "\n",
    "- **One of the most popular languages for scientific computing**\n",
    "- **Developed in early 1990s by [Guido van Rossum](http://neopythonic.blogspot.com/2016/04/kings-day-speech.html)**\n",
    "- **Interpreted**\n",
    "- **\"Batteries included\"**\n",
    "- **Rich and growing set of scientific libraries**\n",
    "- **Can express ideas quickly and efficiently**\n",
    "\n",
    "*\"The first version of Google was written in Python. The reason: Python was the right language to express the original ideas that Larry Page and Sergey Brin had about how to index the web and organize search results.\"* (Guido van Rossum, 2016)"
   ]
  },
  {
   "cell_type": "markdown",
   "id": "b4c73090",
   "metadata": {
    "slideshow": {
     "slide_type": "slide"
    }
   },
   "source": [
    "## Course goals\n",
    "\n",
    "After completing this course, you will be able to:\n",
    "\n",
    "- Write a Python program in Python to solve a common scientific problem such as reading in and plotting data, analyzing a dataset, or performing calculations using a mathematical model.\n",
    "- Use common scientific packages such as NumPy, SciPy, and Matplotlib.\n",
    "- Understand and modify scientific Python scripts written by others.\n",
    "- Draw on a portfolio of well-documented programming examples created during the semester for examples and reminders of how to write Python code for various types of application.\n",
    "\n",
    "## *Review of syllabus*"
   ]
  },
  {
   "cell_type": "markdown",
   "id": "6d8feecd",
   "metadata": {},
   "source": [
    "## About Jupyter Notebooks\n",
    "\n",
    "- An electronic document that can combine text, pictures, and code\n",
    "- Invented at CU Boulder (originally as IPython Notebooks) by Fernando Perez\n",
    "- Notebooks run through a web browser\n",
    "- Notebook has a series of **cells**\n",
    "- Cells can contain text (\"Markdown\") or computer code that you can run (\"Code\")\n",
    "- Can run on your own computer, or on a remote server called a **JupyterHub**\n",
    "- In this course, we'll use a JupyterHub run by the Community Surface Dynamics Modeling System (CSDMS)\n",
    "\n"
   ]
  },
  {
   "cell_type": "code",
   "execution_count": null,
   "id": "aa5e4b4f",
   "metadata": {},
   "outputs": [],
   "source": [
    "# Example of some Python code\n",
    "print(\"Hello, world!\")"
   ]
  },
  {
   "cell_type": "markdown",
   "id": "08adb3c0",
   "metadata": {
    "cell_style": "split",
    "slideshow": {
     "slide_type": "slide"
    }
   },
   "source": [
    "## The CSDMS JupyterHub\n",
    "\n",
    "*Navigate to https://jupyter.openearthscape.org*\n",
    "\n",
    "*Login with your email address as it appears on the CU registration list (usually givenname.surname@colorado.edu)*\n",
    "\n",
    "*The first time you log in you will need to create a password; please write it down!*\n",
    "\n",
    "*Use a blue sticky when successful*\n",
    "\n"
   ]
  },
  {
   "cell_type": "markdown",
   "id": "fa612daf",
   "metadata": {
    "cell_style": "split",
    "slideshow": {
     "slide_type": "-"
    }
   },
   "source": [
    "\n",
    "<div>\n",
    "    <img src=\"assets/oes_login.png\" style=\"width:6in\"></img>\n",
    "    </div>"
   ]
  },
  {
   "cell_type": "markdown",
   "id": "ce91e495",
   "metadata": {
    "cell_style": "split",
    "slideshow": {
     "slide_type": "slide"
    }
   },
   "source": [
    "## Working with Markdown text\n",
    "\n",
    "- Hash character(s) (#) for headings and sub-headings\n",
    "- Asterisks for *italics*, double asterisks for **bold** font- Left single quote marks for `literal text` (e.g., computer code)\n",
    "- Triple single quote marks for blocks of literal text:\n",
    "\n",
    "```\n",
    "name = input(\"Enter your name:\")\n",
    "print(\"Hello,\" name)\n",
    "```\n"
   ]
  },
  {
   "cell_type": "markdown",
   "id": "e5cf3d06",
   "metadata": {
    "cell_style": "split",
    "slideshow": {
     "slide_type": "-"
    }
   },
   "source": [
    " "
   ]
  },
  {
   "cell_type": "code",
   "execution_count": null,
   "id": "185a8233",
   "metadata": {
    "slideshow": {
     "slide_type": "skip"
    }
   },
   "outputs": [],
   "source": []
  },
  {
   "cell_type": "markdown",
   "id": "af874f8d",
   "metadata": {
    "slideshow": {
     "slide_type": "slide"
    }
   },
   "source": [
    "## Code cells\n",
    "\n",
    "Create a code cell and enter the following in it:\n",
    "\n",
    "`print(\"Hello, world!\")`\n",
    "\n",
    "Run the cell by clicking the Run button or pressing Shift+Return"
   ]
  },
  {
   "cell_type": "code",
   "execution_count": null,
   "id": "54b981ef",
   "metadata": {
    "slideshow": {
     "slide_type": "-"
    }
   },
   "outputs": [],
   "source": []
  },
  {
   "cell_type": "markdown",
   "id": "9b456364",
   "metadata": {
    "cell_style": "split",
    "slideshow": {
     "slide_type": "slide"
    }
   },
   "source": [
    "## Working with math mode\n",
    "\n",
    "- Math mode uses $\\LaTeX$ math\n",
    "- Dollar signs to activate math mode\n",
    "- Subscripts and superscripts\n",
    "- Grouping with curly braces\n",
    "- Fractions\n",
    "- Greek letters and special symbols\n",
    "- Roots and common functions\n",
    "- Parentheses and brackets\n"
   ]
  },
  {
   "cell_type": "markdown",
   "id": "e593bc30",
   "metadata": {
    "cell_style": "split",
    "slideshow": {
     "slide_type": "-"
    }
   },
   "source": [
    "Math mode examples:"
   ]
  },
  {
   "cell_type": "markdown",
   "id": "3d41123c",
   "metadata": {
    "cell_style": "center",
    "slideshow": {
     "slide_type": "skip"
    }
   },
   "source": []
  }
 ],
 "metadata": {
  "celltoolbar": "Slideshow",
  "kernelspec": {
   "display_name": "Python 3 (ipykernel)",
   "language": "python",
   "name": "python3"
  },
  "language_info": {
   "codemirror_mode": {
    "name": "ipython",
    "version": 3
   },
   "file_extension": ".py",
   "mimetype": "text/x-python",
   "name": "python",
   "nbconvert_exporter": "python",
   "pygments_lexer": "ipython3",
   "version": "3.11.2"
  }
 },
 "nbformat": 4,
 "nbformat_minor": 5
}
