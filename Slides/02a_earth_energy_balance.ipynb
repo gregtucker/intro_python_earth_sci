{
 "cells": [
  {
   "cell_type": "markdown",
   "id": "a982f23e",
   "metadata": {
    "slideshow": {
     "slide_type": "slide"
    }
   },
   "source": [
    "# Earth's energy balance"
   ]
  },
  {
   "cell_type": "markdown",
   "id": "b3b7036d",
   "metadata": {
    "cell_style": "split",
    "slideshow": {
     "slide_type": "-"
    }
   },
   "source": [
    "\n",
    "<center>\n",
    "    <img src=\"assets/mills2019modeling_fig2d.png\"></img></center>"
   ]
  },
  {
   "cell_type": "markdown",
   "id": "d8aba5eb",
   "metadata": {
    "cell_style": "split",
    "slideshow": {
     "slide_type": "-"
    }
   },
   "source": [
    "\n",
    "<center>\n",
    "    <img src=\"assets/ipcc2021bbc-historic-temp.png\"></img></center>"
   ]
  },
  {
   "cell_type": "markdown",
   "id": "f00599f2",
   "metadata": {
    "slideshow": {
     "slide_type": "-"
    }
   },
   "source": [
    "For reference, 20th century average was [57.0$^\\circ$ F or 13.9$^\\circ$ C](https://www.climate.gov/news-features/understanding-climate/climate-change-global-temperature)"
   ]
  },
  {
   "cell_type": "markdown",
   "id": "127b570a",
   "metadata": {
    "slideshow": {
     "slide_type": "notes"
    }
   },
   "source": [
    "Motivation: we want to understand what sets earth's average surface temperature.\n",
    "- We're going to do an energy balance analysis\n",
    "- Open a JNB and take notes, using math mode where needed"
   ]
  },
  {
   "cell_type": "markdown",
   "id": "103a11b0",
   "metadata": {
    "slideshow": {
     "slide_type": "slide"
    }
   },
   "source": [
    "# Earth's energy balance: basic principle\n",
    "\n",
    "1. Earth gets energy from the sun\n",
    "2. Earth radiates energy to space\n",
    "3. On average, these two are in balance\n",
    "4. We can use these facts to calculate earth's *average effective radiating temperature*"
   ]
  },
  {
   "cell_type": "markdown",
   "id": "69b26530",
   "metadata": {
    "slideshow": {
     "slide_type": "slide"
    }
   },
   "source": [
    "## Incoming power from the sun\n",
    "\n",
    "Need to know 3 things:"
   ]
  },
  {
   "cell_type": "markdown",
   "id": "c834431e",
   "metadata": {
    "slideshow": {
     "slide_type": "-"
    }
   },
   "source": []
  },
  {
   "cell_type": "markdown",
   "id": "c69b0841",
   "metadata": {
    "slideshow": {
     "slide_type": "notes"
    }
   },
   "source": [
    "### **Solar constant** a.k.a. **solar irradiance**\n",
    "\n",
    "Imagine a 1 m$^2$ solar panel on a satellite orbiting earth.\n",
    "\n",
    "If that panel is pointed toward the sun, the amount of solar power it receives is called the **solar constant**, $S_0 \\approx 1,360$ W/m$^2$.\n",
    "\n",
    "The solar constant actually isn't quite constant, but varies slightly over time.\n",
    "\n",
    "### Cross-sectional area of the earth\n",
    "\n",
    "$A_c = \\pi r_e^2$\n",
    "\n",
    "### **Albedo** of the earth\n",
    "\n",
    "Albedo = fraction of incoming radiation reflected back to space (not absorbed)\n",
    "\n",
    "### Total solar power to earth\n",
    "\n",
    "$P_{in} = S_0 (1 - a) \\pi r_e^2$\n",
    "\n",
    "Let's do a calculation."
   ]
  },
  {
   "cell_type": "markdown",
   "id": "57517aab",
   "metadata": {
    "slideshow": {
     "slide_type": "slide"
    }
   },
   "source": [
    "## Python operators\n",
    "\n"
   ]
  },
  {
   "cell_type": "markdown",
   "id": "f76a4b56",
   "metadata": {
    "slideshow": {
     "slide_type": "-"
    }
   },
   "source": []
  },
  {
   "cell_type": "markdown",
   "id": "789d57e0",
   "metadata": {
    "slideshow": {
     "slide_type": "notes"
    }
   },
   "source": [
    "- What an operator is (tells Py to perform an operation on (usually) two numbers)\n",
    "- Try out live 3.1416 * 6370 ** 2\n",
    "- Operator precedence"
   ]
  },
  {
   "attachments": {},
   "cell_type": "markdown",
   "id": "19be3b84",
   "metadata": {
    "cell_style": "split",
    "slideshow": {
     "slide_type": "slide"
    }
   },
   "source": [
    "<div>\n",
    "    <img src=\"assets/python_op_prec_assoc.png\" style=\"width:7in\"></img>\n",
    "    </div>"
   ]
  },
  {
   "cell_type": "code",
   "execution_count": null,
   "id": "34a0dc14",
   "metadata": {
    "cell_style": "split",
    "slideshow": {
     "slide_type": "-"
    }
   },
   "outputs": [],
   "source": []
  },
  {
   "cell_type": "markdown",
   "id": "3ee0fef5",
   "metadata": {
    "slideshow": {
     "slide_type": "notes"
    }
   },
   "source": [
    "Try calculating earth cross-section area\n",
    "\n",
    "Calculate power input if earth was all black"
   ]
  },
  {
   "cell_type": "markdown",
   "id": "053f7d1e",
   "metadata": {
    "cell_style": "split",
    "slideshow": {
     "slide_type": "slide"
    }
   },
   "source": [
    "## Earth's outgoing energy flux\n",
    "\n",
    "- Everything warmer than 0$^\\circ$ K (= *everything*) glows\n",
    "- Intensity and peak wavelength depend on temperature\n",
    "- Blackbody radiation\n",
    "- Stefan-Boltzmann law: radiant power emitted by a blackbody per unit surface area depends on temperature"
   ]
  },
  {
   "cell_type": "markdown",
   "id": "e02c2d3c",
   "metadata": {
    "cell_style": "split",
    "slideshow": {
     "slide_type": "-"
    }
   },
   "source": [
    "Stefan-Boltzmann law:\n",
    "\n",
    "..."
   ]
  },
  {
   "cell_type": "markdown",
   "id": "00d6a2f8",
   "metadata": {
    "slideshow": {
     "slide_type": "notes"
    }
   },
   "source": [
    "$$M = \\sigma T^4$$\n",
    "\n",
    "- $M$ is in W/m$^2$\n",
    "- $\\sigma \\approx 5.67\\times 10^{-8}$ W m$^{-2}$ $^\\circ$K$^{-4}$ (how to remember: 5-6-7-8)\n",
    "- $T$ is in degrees Kelvin"
   ]
  },
  {
   "cell_type": "markdown",
   "id": "a87593c3",
   "metadata": {
    "cell_style": "split",
    "slideshow": {
     "slide_type": "slide"
    }
   },
   "source": [
    "## Earth's outgoing energy flux\n",
    "\n",
    "- Earth glows in infrared\n",
    "- It's approximately a blockbody in infrared\n",
    "- Total power output equals output per square meter times surface area in square meters\n"
   ]
  },
  {
   "cell_type": "markdown",
   "id": "a124a656",
   "metadata": {
    "cell_style": "split",
    "slideshow": {
     "slide_type": "-"
    }
   },
   "source": [
    "Surface area of earth:\n",
    "\n",
    "\n",
    "Power output:"
   ]
  },
  {
   "cell_type": "code",
   "execution_count": null,
   "id": "ccda74d0",
   "metadata": {
    "slideshow": {
     "slide_type": "notes"
    }
   },
   "outputs": [],
   "source": []
  },
  {
   "cell_type": "markdown",
   "id": "2d72baa0",
   "metadata": {
    "cell_style": "split",
    "slideshow": {
     "slide_type": "slide"
    }
   },
   "source": [
    "## Radiative temperature\n",
    "\n",
    "Set incoming and outgoing equal..."
   ]
  },
  {
   "cell_type": "markdown",
   "id": "93c774e6",
   "metadata": {
    "cell_style": "split",
    "slideshow": {
     "slide_type": "-"
    }
   },
   "source": []
  },
  {
   "cell_type": "code",
   "execution_count": null,
   "id": "f2d7e2d0",
   "metadata": {
    "cell_style": "split",
    "slideshow": {
     "slide_type": "-"
    }
   },
   "outputs": [],
   "source": []
  },
  {
   "cell_type": "markdown",
   "id": "c1f9c317",
   "metadata": {
    "slideshow": {
     "slide_type": "notes"
    }
   },
   "source": [
    "$$4 \\pi r^2 \\sigma T^4 = \\pi r^2 S_0 (1-a)$$\n",
    "\n",
    "$$T = \\sqrt[4]{\\frac{S_0 (1-a)}{4\\sigma}}$$\n",
    "\n",
    "Need to know:\n",
    "- Solar irradiance\n",
    "- Earth average albedo"
   ]
  },
  {
   "cell_type": "markdown",
   "id": "f0215fca",
   "metadata": {
    "slideshow": {
     "slide_type": "slide"
    }
   },
   "source": [
    "## Finding the data we need\n",
    "\n",
    "**Total Solar Irradiance (TSI) ($S_0$)**\n",
    "\n",
    "Download data file from: [https://spot.colorado.edu/~Ekoppg/TSI/Historical_TSI_Reconstruction.txt](https://spot.colorado.edu/%7Ekoppg/TSI/Historical_TSI_Reconstruction.txt)\n",
    "\n",
    "Upload it to your home directory on the JupyterHub.\n",
    "\n",
    "**Global albedo**\n",
    "\n",
    "For now we'll use $a = 0.31$."
   ]
  },
  {
   "cell_type": "markdown",
   "id": "e5bf900b",
   "metadata": {
    "cell_style": "split",
    "slideshow": {
     "slide_type": "slide"
    }
   },
   "source": [
    "## Navigating a Unix shell"
   ]
  },
  {
   "cell_type": "markdown",
   "id": "c63c7265",
   "metadata": {
    "cell_style": "split",
    "slideshow": {
     "slide_type": "-"
    }
   },
   "source": []
  },
  {
   "cell_type": "markdown",
   "id": "e9397b12",
   "metadata": {
    "slideshow": {
     "slide_type": "notes"
    }
   },
   "source": [
    "Open a shell on hub.\n",
    "\n",
    "pwd, ls, ls -l, mkdir data, mv Historical_TSI_Reconstruction.txt data, cd data, cat, more, ., .."
   ]
  },
  {
   "cell_type": "markdown",
   "id": "32d363bd",
   "metadata": {
    "cell_style": "split",
    "slideshow": {
     "slide_type": "slide"
    }
   },
   "source": [
    "## How computers represent data"
   ]
  },
  {
   "cell_type": "code",
   "execution_count": null,
   "id": "02524aa6",
   "metadata": {
    "cell_style": "split",
    "slideshow": {
     "slide_type": "-"
    }
   },
   "outputs": [],
   "source": []
  },
  {
   "cell_type": "markdown",
   "id": "ceac7fcc",
   "metadata": {
    "slideshow": {
     "slide_type": "notes"
    }
   },
   "source": [
    "- Electronic binary\n",
    "- Binary numbers with example of earth radius in km, pCO2 in ppm, density of quartz\n",
    "- Reminder of how binary numbers work: write your birth day of the month in binary\n",
    "- Bits and bytes\n",
    "- Unsigned integers\n",
    "- Signed integers\n",
    "- Floating point numbers\n",
    "- Presence/absence tells Python whether integer or float"
   ]
  },
  {
   "cell_type": "markdown",
   "id": "de7b9d11",
   "metadata": {},
   "source": [
    "Optional guided exercise: how many digits needed to express 100,000 in binary? Guide through use of import statement; import math and use log2 and floor"
   ]
  },
  {
   "cell_type": "markdown",
   "id": "a3e0243d",
   "metadata": {
    "slideshow": {
     "slide_type": "notes"
    }
   },
   "source": [
    "Assignment and look ahead"
   ]
  },
  {
   "cell_type": "code",
   "execution_count": null,
   "id": "4aad6ddd",
   "metadata": {
    "slideshow": {
     "slide_type": "notes"
    }
   },
   "outputs": [],
   "source": []
  },
  {
   "cell_type": "code",
   "execution_count": null,
   "id": "48085c55",
   "metadata": {},
   "outputs": [],
   "source": []
  }
 ],
 "metadata": {
  "celltoolbar": "Slideshow",
  "kernelspec": {
   "display_name": "Python 3 (ipykernel)",
   "language": "python",
   "name": "python3"
  },
  "language_info": {
   "codemirror_mode": {
    "name": "ipython",
    "version": 3
   },
   "file_extension": ".py",
   "mimetype": "text/x-python",
   "name": "python",
   "nbconvert_exporter": "python",
   "pygments_lexer": "ipython3",
   "version": "3.11.4"
  }
 },
 "nbformat": 4,
 "nbformat_minor": 5
}
