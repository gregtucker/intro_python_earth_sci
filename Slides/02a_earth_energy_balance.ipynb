{
 "cells": [
  {
   "cell_type": "markdown",
   "id": "b19a223e",
   "metadata": {
    "slideshow": {
     "slide_type": "slide"
    }
   },
   "source": [
    "# Earth's energy balance"
   ]
  },
  {
   "cell_type": "markdown",
   "id": "6784ef85",
   "metadata": {
    "cell_style": "split",
    "slideshow": {
     "slide_type": "-"
    }
   },
   "source": [
    "\n",
    "<center>\n",
    "    <img src=\"assets/mills2019modeling_fig2d.png\"></img></center>"
   ]
  },
  {
   "cell_type": "markdown",
   "id": "44332608",
   "metadata": {
    "cell_style": "split",
    "slideshow": {
     "slide_type": "-"
    }
   },
   "source": [
    "\n",
    "<center>\n",
    "    <img src=\"assets/ipcc2021bbc-historic-temp.png\"></img></center>"
   ]
  },
  {
   "cell_type": "markdown",
   "id": "3b0f5b83",
   "metadata": {
    "slideshow": {
     "slide_type": "-"
    }
   },
   "source": [
    "For reference, 20th century average was [57.0$^\\circ$ F or 13.9$^\\circ$ C](https://www.climate.gov/news-features/understanding-climate/climate-change-global-temperature)"
   ]
  },
  {
   "cell_type": "markdown",
   "id": "d4528df3",
   "metadata": {
    "slideshow": {
     "slide_type": "notes"
    }
   },
   "source": [
    "Motivation: we want to understand what sets earth's average surface temperature.\n",
    "- We're going to do an energy balance analysis\n",
    "- Open a JNB and take notes, using math mode where needed"
   ]
  },
  {
   "cell_type": "markdown",
   "id": "ec1d87ad",
   "metadata": {
    "slideshow": {
     "slide_type": "slide"
    }
   },
   "source": [
    "# Earth's energy balance: basic principle\n",
    "\n",
    "1. Earth gets energy from the sun\n",
    "2. Earth radiates energy to space\n",
    "3. On average, these two are in balance\n",
    "4. We can use these facts to calculate earth's *average effective radiating temperature*"
   ]
  },
  {
   "cell_type": "markdown",
   "id": "4c4c2caa",
   "metadata": {
    "slideshow": {
     "slide_type": "slide"
    }
   },
   "source": [
    "## Incoming power from the sun\n",
    "\n",
    "Need to know 3 things:"
   ]
  },
  {
   "cell_type": "markdown",
   "id": "e8ba82a6",
   "metadata": {
    "slideshow": {
     "slide_type": "-"
    }
   },
   "source": []
  },
  {
   "cell_type": "markdown",
   "id": "c3980f25",
   "metadata": {
    "slideshow": {
     "slide_type": "notes"
    }
   },
   "source": [
    "### **Solar constant** a.k.a. **solar irradiance**\n",
    "\n",
    "Imagine a 1 m$^2$ solar panel on a satellite orbiting earth.\n",
    "\n",
    "If that panel is pointed toward the sun, the amount of solar power it receives is called the **solar constant**, $S_0 \\approx 1,360$ W/m$^2$.\n",
    "\n",
    "The solar constant actually isn't quite constant, but varies slightly over time.\n",
    "\n",
    "### Cross-sectional area of the earth\n",
    "\n",
    "$A_c = \\pi r_e^2$\n",
    "\n",
    "### **Albedo** of the earth\n",
    "\n",
    "Albedo = fraction of incoming radiation reflected back to space (not absorbed)\n",
    "\n",
    "### Total solar power to earth\n",
    "\n",
    "$P_{in} = S_0 (1 - a) \\pi r_e^2$\n",
    "\n",
    "Let's do a calculation."
   ]
  },
  {
   "cell_type": "markdown",
   "id": "1e7d6f07",
   "metadata": {
    "slideshow": {
     "slide_type": "slide"
    }
   },
   "source": [
    "## Python operators\n",
    "\n"
   ]
  },
  {
   "cell_type": "markdown",
   "id": "838ae86c",
   "metadata": {
    "slideshow": {
     "slide_type": "-"
    }
   },
   "source": []
  },
  {
   "cell_type": "markdown",
   "id": "cb1cd040",
   "metadata": {
    "slideshow": {
     "slide_type": "notes"
    }
   },
   "source": [
    "- What an operator is (tells Py to perform an operation on (usually) two numbers)\n",
    "- Try out live 3.1416 * 6370 ** 2\n",
    "- Operator precedence"
   ]
  },
  {
   "attachments": {},
   "cell_type": "markdown",
   "id": "2753fec1",
   "metadata": {
    "cell_style": "split",
    "slideshow": {
     "slide_type": "slide"
    }
   },
   "source": [
    "<div>\n",
    "    <img src=\"assets/python_op_prec_assoc.png\" style=\"width:7in\"></img>\n",
    "    </div>"
   ]
  },
  {
   "cell_type": "code",
   "execution_count": null,
   "id": "b7e7c9fb",
   "metadata": {
    "cell_style": "split",
    "slideshow": {
     "slide_type": "-"
    }
   },
   "outputs": [],
   "source": []
  },
  {
   "cell_type": "markdown",
   "id": "d1d0940e",
   "metadata": {
    "slideshow": {
     "slide_type": "notes"
    }
   },
   "source": [
    "Try calculating earth cross-section area\n",
    "\n",
    "Calculate power input if earth was all black"
   ]
  },
  {
   "cell_type": "markdown",
   "id": "71c5eb06",
   "metadata": {
    "cell_style": "split",
    "slideshow": {
     "slide_type": "slide"
    }
   },
   "source": [
    "## Earth's outgoing energy flux\n",
    "\n",
    "- Everything warmer than 0$^\\circ$ K (= *everything*) glows\n",
    "- Intensity and peak wavelength depend on temperature\n",
    "- Blackbody radiation\n",
    "- Stefan-Boltzmann law: radiant power emitted by a blackbody per unit surface area depends on temperature"
   ]
  },
  {
   "cell_type": "markdown",
   "id": "88c9d1a2",
   "metadata": {
    "cell_style": "split",
    "slideshow": {
     "slide_type": "-"
    }
   },
   "source": [
    "Stefan-Boltzmann law:\n",
    "\n",
    "..."
   ]
  },
  {
   "cell_type": "markdown",
   "id": "236521c4",
   "metadata": {
    "slideshow": {
     "slide_type": "notes"
    }
   },
   "source": [
    "$$M = \\sigma T^4$$\n",
    "\n",
    "- $M$ is in W/m$^2$\n",
    "- $\\sigma \\approx 5.67\\times 10^{-8}$ W m$^{-2}$ $^\\circ$K$^{-4}$ (how to remember: 5-6-7-8)\n",
    "- $T$ is in degrees Kelvin"
   ]
  },
  {
   "cell_type": "markdown",
   "id": "4a27b7db",
   "metadata": {
    "cell_style": "split",
    "slideshow": {
     "slide_type": "slide"
    }
   },
   "source": [
    "## Earth's outgoing energy flux\n",
    "\n",
    "- Earth glows in infrared\n",
    "- It's approximately a blockbody in infrared\n",
    "- Total power output equals output per square meter times surface area in square meters\n"
   ]
  },
  {
   "cell_type": "markdown",
   "id": "6e857017",
   "metadata": {
    "cell_style": "split",
    "slideshow": {
     "slide_type": "-"
    }
   },
   "source": [
    "Surface area of earth:\n",
    "\n",
    "\n",
    "Power output:"
   ]
  },
  {
   "cell_type": "code",
   "execution_count": null,
   "id": "b3c2a88f",
   "metadata": {
    "slideshow": {
     "slide_type": "notes"
    }
   },
   "outputs": [],
   "source": []
  },
  {
   "cell_type": "markdown",
   "id": "eea1e9fa",
   "metadata": {
    "cell_style": "split",
    "slideshow": {
     "slide_type": "slide"
    }
   },
   "source": [
    "## Radiative temperature\n",
    "\n",
    "Set incoming and outgoing equal..."
   ]
  },
  {
   "cell_type": "markdown",
   "id": "36e32adf",
   "metadata": {
    "cell_style": "split",
    "slideshow": {
     "slide_type": "-"
    }
   },
   "source": []
  },
  {
   "cell_type": "code",
   "execution_count": null,
   "id": "b3c65c78",
   "metadata": {
    "cell_style": "split",
    "slideshow": {
     "slide_type": "-"
    }
   },
   "outputs": [],
   "source": []
  },
  {
   "cell_type": "markdown",
   "id": "b93c2155",
   "metadata": {
    "slideshow": {
     "slide_type": "notes"
    }
   },
   "source": [
    "$$4 \\pi r^2 \\sigma T^4 = \\pi r^2 S_0 (1-a)$$\n",
    "\n",
    "$$T = \\sqrt[4]{\\frac{S_0 (1-a)}{4\\sigma}}$$\n",
    "\n",
    "Need to know:\n",
    "- Solar irradiance\n",
    "- Earth average albedo"
   ]
  },
  {
   "cell_type": "markdown",
   "id": "cc3e7451",
   "metadata": {
    "slideshow": {
     "slide_type": "slide"
    }
   },
   "source": [
    "## Finding the data we need\n",
    "\n",
    "**Total Solar Irradiance (TSI) ($S_0$)**\n",
    "\n",
    "Download data file from: [https://spot.colorado.edu/~Ekoppg/TSI/Historical_TSI_Reconstruction.txt](https://spot.colorado.edu/%7Ekoppg/TSI/Historical_TSI_Reconstruction.txt)\n",
    "\n",
    "Upload it to your home directory on the JupyterHub.\n",
    "\n",
    "**Global albedo**\n",
    "\n",
    "For now we'll use $a = 0.31$."
   ]
  },
  {
   "cell_type": "markdown",
   "id": "aedb852c",
   "metadata": {
    "cell_style": "split",
    "slideshow": {
     "slide_type": "slide"
    }
   },
   "source": [
    "## Navigating a Unix shell"
   ]
  },
  {
   "cell_type": "markdown",
   "id": "8858b587",
   "metadata": {
    "cell_style": "split",
    "slideshow": {
     "slide_type": "-"
    }
   },
   "source": []
  },
  {
   "cell_type": "markdown",
   "id": "0f5d0fc6",
   "metadata": {
    "slideshow": {
     "slide_type": "notes"
    }
   },
   "source": [
    "Open a shell on hub.\n",
    "\n",
    "pwd, ls, ls -l, mkdir data, mv Historical_TSI_Reconstruction.txt data, cd data, cat, more, ., .."
   ]
  },
  {
   "cell_type": "markdown",
   "id": "8b9e523a",
   "metadata": {
    "cell_style": "split",
    "slideshow": {
     "slide_type": "slide"
    }
   },
   "source": [
    "## How computers represent data"
   ]
  },
  {
   "cell_type": "code",
   "execution_count": null,
   "id": "72f47800",
   "metadata": {
    "cell_style": "split",
    "slideshow": {
     "slide_type": "-"
    }
   },
   "outputs": [],
   "source": []
  },
  {
   "cell_type": "markdown",
   "id": "536fa3d1",
   "metadata": {
    "slideshow": {
     "slide_type": "notes"
    }
   },
   "source": [
    "- Electronic binary\n",
    "- Binary numbers with example of earth radius in km, pCO2 in ppm, density of quartz\n",
    "- Reminder of how binary numbers work: write your birth day of the month in binary\n",
    "- Bits and bytes\n",
    "- Unsigned integers\n",
    "- Signed integers\n",
    "- Floating point numbers\n",
    "- Presence/absence tells Python whether integer or float"
   ]
  },
  {
   "cell_type": "markdown",
   "id": "183c1b46",
   "metadata": {
    "slideshow": {
     "slide_type": "slide"
    }
   },
   "source": [
    "## How computers represent floating-point numbers\n",
    "\n",
    "<div>\n",
    "    <img src=\"assets/floating_point.png\"></src>\n",
    "    </div>\n",
    "\n",
    "$s$ = sign bit (0 or 1)\n",
    "\n",
    "Value $= (-1)^s \\cdot$ mantissa $\\cdot 2^\\text{exp}$\n"
   ]
  },
  {
   "cell_type": "markdown",
   "id": "9f81b9a9",
   "metadata": {
    "slideshow": {
     "slide_type": "notes"
    }
   },
   "source": [
    "Optional guided exercise: how many digits needed to express 100,000 in binary? Guide through use of import statement; import math and use log2 and floor"
   ]
  },
  {
   "cell_type": "markdown",
   "id": "87570bcb",
   "metadata": {
    "slideshow": {
     "slide_type": "notes"
    }
   },
   "source": [
    "Assignment and look ahead"
   ]
  },
  {
   "cell_type": "code",
   "execution_count": null,
   "id": "809f8675",
   "metadata": {
    "slideshow": {
     "slide_type": "notes"
    }
   },
   "outputs": [],
   "source": []
  },
  {
   "cell_type": "code",
   "execution_count": null,
   "id": "920328ea",
   "metadata": {},
   "outputs": [],
   "source": []
  }
 ],
 "metadata": {
  "celltoolbar": "Slideshow",
  "kernelspec": {
   "display_name": "Python 3 (ipykernel)",
   "language": "python",
   "name": "python3"
  },
  "language_info": {
   "codemirror_mode": {
    "name": "ipython",
    "version": 3
   },
   "file_extension": ".py",
   "mimetype": "text/x-python",
   "name": "python",
   "nbconvert_exporter": "python",
   "pygments_lexer": "ipython3",
   "version": "3.11.4"
  }
 },
 "nbformat": 4,
 "nbformat_minor": 5
}
